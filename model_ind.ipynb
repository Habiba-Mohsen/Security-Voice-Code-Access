{
 "cells": [
  {
   "cell_type": "markdown",
   "metadata": {},
   "source": [
    "# Loading Audio Data & Extracting Features"
   ]
  },
  {
   "cell_type": "code",
   "execution_count": null,
   "metadata": {},
   "outputs": [],
   "source": [
    "import matplotlib.pyplot as plt\n",
    "import numpy as np\n",
    "from pyAudioAnalysis import MidTermFeatures as aF\n",
    "import os\n",
    "\n",
    "\n",
    "dirs = [\"audio_data/habiba_train/\", \"audio_data/carol_train/\", \"audio_data/rana_train/\", \"audio_data/mohand_train/\"]  \n",
    "m_win, m_step, s_win, s_step = 1, 1, 0.1, 0.05 \n",
    "\n",
    "# segment-level feature extraction:\n",
    "features = [] \n",
    "for d in dirs: # get feature matrix for each directory (class) \n",
    "    f, files, fn = aF.directory_feature_extraction(d, m_win, m_step, \n",
    "                                                   s_win, s_step) \n",
    "    features.append(f)\n",
    "    \n",
    "# (each element of the features list contains a \n",
    "# (samples x segment features) = (48 x 138) feature matrix)\n",
    "print(features[0].shape, features[1].shape, features[2].shape, features[3].shape)\n"
   ]
  },
  {
   "cell_type": "markdown",
   "metadata": {},
   "source": [
    "### Visualization of some selected Features"
   ]
  },
  {
   "cell_type": "code",
   "execution_count": null,
   "metadata": {},
   "outputs": [],
   "source": [
    "dirs = [\"audio_data/habiba_train/\", \"audio_data/carol_train/\", \"audio_data/rana_train/\", \"audio_data/mohand_train/\"]  \n",
    "class_names = [os.path.dirname(d) for d in dirs]\n",
    "\n",
    "f1 = np.array([features[0][:, fn.index('spectral_centroid_mean')],\n",
    "               features[0][:, fn.index('mfcc_1_mean')]])\n",
    "f2 = np.array([features[1][:, fn.index('spectral_centroid_mean')],\n",
    "               features[1][:, fn.index('mfcc_1_mean')]])\n",
    "f3 = np.array([features[2][:, fn.index('spectral_centroid_mean')],\n",
    "               features[2][:, fn.index('mfcc_1_mean')]])\n",
    "f4 = np.array([features[3][:, fn.index('spectral_centroid_mean')],\n",
    "               features[3][:, fn.index('mfcc_1_mean')]])\n",
    "\n",
    "# Check if features were extracted\n",
    "if f1 is not None and f2 is not None and f3 is not None and f4 is not None:\n",
    "    # Plot features\n",
    "    plt.figure(figsize=(10, 7))\n",
    "    plt.scatter(x=f1[0, :],  y=f1[1, :], \n",
    "                    label=class_names[0], color='b')\n",
    "    plt.scatter(x=f2[0, :], y=f2[1, :], \n",
    "                    label=class_names[1], color='r')\n",
    "    plt.scatter(x=f3[0, :], y=f3[1, :], \n",
    "                    label=class_names[2], color='orange')\n",
    "    plt.scatter(x=f4[0, :], y=f3[1, :], \n",
    "                    label=class_names[3], color='purple')\n",
    "    plt.xlabel('Spectral Centroid Mean')\n",
    "    plt.ylabel('MFCCs Mean')\n",
    "    plt.legend()\n",
    "    plt.show()\n",
    "else:\n",
    "    print(\"No features were extracted. Please check the directory paths and contents.\")"
   ]
  },
  {
   "cell_type": "markdown",
   "metadata": {},
   "source": [
    "# Training the SVM Model"
   ]
  },
  {
   "cell_type": "code",
   "execution_count": null,
   "metadata": {},
   "outputs": [],
   "source": [
    "from pyAudioAnalysis.audioTrainTest import extract_features_and_train\n",
    "\n",
    "# train the svm classifier\n",
    "extract_features_and_train(dirs, m_win, m_step, s_win, s_step, \"svm_rbf\", \"svm_model\")\n"
   ]
  },
  {
   "cell_type": "code",
   "execution_count": null,
   "metadata": {},
   "outputs": [],
   "source": [
    "from pyAudioAnalysis import audioTrainTest as aT\n",
    "dirc = ['audio_data/habiba_test/', 'audio_data/carol_test/', 'audio_data/rana_test/', 'audio_data/mohand_test/']\n",
    "\n",
    "for d in dirc:\n",
    "    for filename in os.listdir(d):\n",
    "        if os.path.isfile(os.path.join(d, filename)):\n",
    "            print(f'{os.path.join(d, filename)}')\n",
    "            c, p, p_nam = aT.file_classification(os.path.join(d, filename), \"svm_model\",\"svm_rbf\")\n",
    "            print(f'P({p_nam[0]}={p[0]})')\n",
    "            print(f'P({p_nam[1]}={p[1]})')\n",
    "            print(f'P({p_nam[2]}={p[2]})')\n",
    "            print(f'P({p_nam[3]}={p[3]})')\n",
    "            print()"
   ]
  }
 ],
 "metadata": {
  "kernelspec": {
   "display_name": "venv",
   "language": "python",
   "name": "python3"
  },
  "language_info": {
   "codemirror_mode": {
    "name": "ipython",
    "version": 3
   },
   "file_extension": ".py",
   "mimetype": "text/x-python",
   "name": "python",
   "nbconvert_exporter": "python",
   "pygments_lexer": "ipython3",
   "version": "3.11.6"
  }
 },
 "nbformat": 4,
 "nbformat_minor": 2
}

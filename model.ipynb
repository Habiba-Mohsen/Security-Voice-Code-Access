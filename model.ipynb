{
 "cells": [
  {
   "cell_type": "markdown",
   "metadata": {},
   "source": [
    "# Visualization"
   ]
  },
  {
   "cell_type": "code",
   "execution_count": null,
   "metadata": {
    "ExecuteTime": {
     "end_time": "2024-01-04T13:07:08.957178900Z",
     "start_time": "2024-01-04T13:07:08.786061700Z"
    }
   },
   "outputs": [],
   "source": [
    "import pandas as pd\n",
    "import matplotlib.pyplot as plt\n",
    "import seaborn as sns\n",
    "import numpy as np\n",
    "\n",
    "# Load your CSV file\n",
    "df = pd.read_csv(\"dataset/data2.csv\")\n",
    "\n",
    "# Assuming 'label' is the label column\n",
    "sentences = df['sentence']\n",
    "individuals = df['individual']\n",
    "\n",
    "# Extracting features (excluding the label column)\n",
    "features = df.drop(columns=['sentence', 'individual'])\n",
    "random_columns = np.random.choice(features.columns, size=8, replace=False)\n",
    "\n",
    "# Select the columns\n",
    "selected_features = df[random_columns]\n",
    "\n",
    "# Get unique labels and assign colors\n",
    "unique_sentences = sentences.unique()\n",
    "sentence_color = sns.color_palette(\"husl\", len(unique_sentences))\n",
    "\n",
    "# Get unique labels and assign colors\n",
    "unique_individual = individuals.unique()\n",
    "individual_color = sns.color_palette(\"husl\", len(unique_individual))\n",
    "\n",
    "# Plot each feature in a separate graph\n",
    "num_features = len(selected_features.columns)\n"
   ]
  },
  {
   "cell_type": "code",
   "execution_count": null,
   "metadata": {
    "ExecuteTime": {
     "end_time": "2024-01-03T16:29:23.532847400Z",
     "start_time": "2024-01-03T16:29:18.979777600Z"
    }
   },
   "outputs": [],
   "source": [
    "# Set up subplots for features\n",
    "fig, axes = plt.subplots(num_features, 2, figsize=(12, 4 * num_features))\n",
    "\n",
    "# Iterate through features\n",
    "for i, feature in enumerate(selected_features.columns):\n",
    "    # Plot feature as line with different colors for each label\n",
    "    for sentence, color in zip(unique_sentences, sentence_color):\n",
    "        subset = df[df['sentence'] == sentence]\n",
    "        axes[i, 0].plot(subset.index, subset[feature], label=f'{sentence}', color=color)\n",
    "\n",
    "    axes[i, 0].set_ylabel(feature)\n",
    "    axes[i, 0].legend()\n",
    "\n",
    "    # Plot histogram for labels with different colors\n",
    "    axes[i, 1].hist([sentences[sentences == label] for label in unique_sentences], bins='auto', edgecolor='black', label=unique_sentences, color=sentence_color)\n",
    "    axes[i, 1].set_title('Label Histogram')\n",
    "    axes[i, 1].legend()\n",
    "\n",
    "# Add a common X-axis label for features\n",
    "axes[-1, 0].set_xlabel('Index')\n",
    "\n",
    "# Adjust layout to prevent overlapping\n",
    "plt.tight_layout()\n",
    "\n",
    "# Show the plot\n",
    "plt.show()"
   ]
  },
  {
   "cell_type": "markdown",
   "metadata": {},
   "source": [
    "# Remove Outliers"
   ]
  },
  {
   "cell_type": "code",
   "execution_count": null,
   "metadata": {
    "ExecuteTime": {
     "end_time": "2024-01-04T13:07:21.781986300Z",
     "start_time": "2024-01-04T13:07:20.410655200Z"
    }
   },
   "outputs": [],
   "source": [
    "import pandas as pd\n",
    "\n",
    "def remove_outliers(df, factor=1.5):\n",
    "    \"\"\"\n",
    "    Remove outliers from each column in a DataFrame using the IQR method.\n",
    "\n",
    "    Parameters:\n",
    "    - df: DataFrame\n",
    "    - factor: Float, multiplier for IQR. Values outside (Q1 - factor * IQR, Q3 + factor * IQR) are considered outliers.\n",
    "\n",
    "    Returns:\n",
    "    - DataFrame without outliers.\n",
    "    \"\"\"\n",
    "    df_no_outliers = pd.DataFrame()\n",
    "\n",
    "    for column in df.columns:\n",
    "        # Calculate the quartiles\n",
    "        Q1 = df[column].quantile(0.25)\n",
    "        Q3 = df[column].quantile(0.75)\n",
    "\n",
    "        # Calculate the IQR (Interquartile Range)\n",
    "        IQR = Q3 - Q1\n",
    "\n",
    "        # Define the outlier range\n",
    "        lower_bound = Q1 - factor * IQR\n",
    "        upper_bound = Q3 + factor * IQR\n",
    "\n",
    "        # Filter values within the range (non-outliers)\n",
    "        filtered_values = df[(df[column] >= lower_bound) & (df[column] <= upper_bound)][column]\n",
    "\n",
    "        # Concatenate the column without outliers to the new DataFrame\n",
    "        df_no_outliers = pd.concat([df_no_outliers, filtered_values], axis=1)\n",
    "\n",
    "    return df_no_outliers\n",
    "\n",
    "features = remove_outliers(features)\n"
   ]
  },
  {
   "cell_type": "code",
   "execution_count": null,
   "metadata": {
    "ExecuteTime": {
     "end_time": "2024-01-04T13:07:24.961125600Z",
     "start_time": "2024-01-04T13:07:24.917852900Z"
    }
   },
   "outputs": [],
   "source": [
    "features.dropna(axis=0, inplace=True, thresh=280)\n",
    "features.head"
   ]
  },
  {
   "cell_type": "markdown",
   "metadata": {},
   "source": [
    "# Imports"
   ]
  },
  {
   "cell_type": "code",
   "execution_count": null,
   "metadata": {
    "ExecuteTime": {
     "end_time": "2024-01-04T13:08:27.712902100Z",
     "start_time": "2024-01-04T13:08:27.628895400Z"
    }
   },
   "outputs": [],
   "source": [
    "from sklearn.metrics import confusion_matrix\n",
    "import numpy as np\n",
    "import pandas as pd\n",
    "from sklearn.preprocessing import StandardScaler\n",
    "from sklearn.model_selection import train_test_split\n",
    "import sklearn\n",
    "from sklearn.metrics import accuracy_score, precision_score, recall_score,f1_score,roc_auc_score\n",
    "import matplotlib.pyplot as plt\n",
    "from sklearn import metrics\n",
    "import glob\n",
    "from scipy import signal\n",
    "import seaborn as sn\n",
    "from sklearn.metrics import classification_report\n",
    "import joblib\n",
    "from sklearn.ensemble import GradientBoostingClassifier\n",
    "from sklearn.model_selection import train_test_split\n",
    "from sklearn.metrics import accuracy_score"
   ]
  },
  {
   "cell_type": "markdown",
   "metadata": {},
   "source": [
    "# Reading Data"
   ]
  },
  {
   "cell_type": "code",
   "execution_count": null,
   "metadata": {
    "ExecuteTime": {
     "end_time": "2024-01-04T13:08:30.801407800Z",
     "start_time": "2024-01-04T13:08:30.775731Z"
    }
   },
   "outputs": [],
   "source": [
    "# Load your CSV file\n",
    "df = pd.read_csv(\"dataset/data2.csv\")\n",
    "\n",
    "x_df = df.iloc[:, :304]\n",
    "y_df = df.iloc[:, 304]\n",
    "ind_df = df.iloc[:, 305]\n",
    "\n",
    "x_data=x_df.values\n",
    "y_data=y_df.values\n",
    "ind_data=ind_df.values\n",
    "\n",
    "print(x_data.shape)\n",
    "print(y_data.shape)\n",
    "print(ind_data.shape)"
   ]
  },
  {
   "cell_type": "code",
   "execution_count": null,
   "metadata": {
    "ExecuteTime": {
     "end_time": "2024-01-04T13:08:33.100875600Z",
     "start_time": "2024-01-04T13:08:33.075338Z"
    }
   },
   "outputs": [],
   "source": [
    "Xsc = StandardScaler().fit_transform(x_data)\n",
    "Xsc=pd.DataFrame(Xsc)\n",
    "y=pd.DataFrame(y_data)\n",
    "Xsc.head()"
   ]
  },
  {
   "cell_type": "code",
   "execution_count": null,
   "metadata": {
    "ExecuteTime": {
     "end_time": "2024-01-04T13:08:36.543246600Z",
     "start_time": "2024-01-04T13:08:35.296762900Z"
    }
   },
   "outputs": [],
   "source": [
    "remove_outliers(Xsc)\n",
    "Xsc.shape"
   ]
  },
  {
   "cell_type": "markdown",
   "metadata": {},
   "source": [
    "# Model"
   ]
  },
  {
   "cell_type": "code",
   "execution_count": null,
   "metadata": {},
   "outputs": [],
   "source": [
    "from sklearn.model_selection import train_test_split\n",
    "from sklearn.neighbors import KNeighborsClassifier\n",
    "from sklearn.metrics import accuracy_score, confusion_matrix\n",
    "\n",
    "# Assuming Xsc and y are defined earlier\n",
    "\n",
    "# Split the data into training and testing sets\n",
    "X_train, X_test, y_train, y_test = train_test_split(Xsc, y, test_size=0.2, random_state=0)\n",
    "\n",
    "# Create a KNN classifier with balanced class weights\n",
    "knn = KNeighborsClassifier(n_neighbors=5, weights='distance')  # You can adjust n_neighbors and weights based on your needs\n",
    "\n",
    "# Fit the classifier to the training set\n",
    "knn.fit(X_train, y_train)\n",
    "\n",
    "# Make predictions on the test set - unseen data\n",
    "y_pred = knn.predict(X_test)\n",
    "print(y_pred)\n",
    "print(y_test)\n",
    "# Print accuracy score\n",
    "print(f'Accuracy score: {accuracy_score(y_test, y_pred):0.4f}')\n",
    "\n",
    "# Print confusion matrix\n",
    "cf_matrix = confusion_matrix(y_test, y_pred)\n",
    "print(cf_matrix)\n"
   ]
  },
  {
   "cell_type": "markdown",
   "metadata": {},
   "source": [
    "# Results"
   ]
  },
  {
   "cell_type": "code",
   "execution_count": null,
   "metadata": {
    "ExecuteTime": {
     "end_time": "2024-01-04T13:08:49.109702400Z",
     "start_time": "2024-01-04T13:08:48.782833300Z"
    }
   },
   "outputs": [],
   "source": [
    "plt.figure(figsize=(4,3))\n",
    "plt.title('Confusion Matrix')\n",
    "sn.heatmap(cf_matrix, annot=True, fmt=' ', cmap='Reds')\n",
    "plt.show()\n",
    "\n",
    "print(classification_report(y_test, y_pred))"
   ]
  },
  {
   "cell_type": "markdown",
   "metadata": {},
   "source": [
    "# Saving the Model"
   ]
  },
  {
   "cell_type": "code",
   "execution_count": null,
   "metadata": {
    "ExecuteTime": {
     "end_time": "2024-01-03T16:29:25.562557300Z",
     "start_time": "2024-01-03T16:29:25.495485700Z"
    }
   },
   "outputs": [],
   "source": [
    "joblib.dump(knn, 'svm_model.pkl')"
   ]
  }
 ],
 "metadata": {
  "kernelspec": {
   "display_name": "Python 3",
   "language": "python",
   "name": "python3"
  },
  "language_info": {
   "codemirror_mode": {
    "name": "ipython",
    "version": 3
   },
   "file_extension": ".py",
   "mimetype": "text/x-python",
   "name": "python",
   "nbconvert_exporter": "python",
   "pygments_lexer": "ipython3",
   "version": "3.11.6"
  }
 },
 "nbformat": 4,
 "nbformat_minor": 2
}
